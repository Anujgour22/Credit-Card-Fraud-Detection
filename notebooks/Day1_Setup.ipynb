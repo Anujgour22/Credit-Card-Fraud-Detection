{
  "nbformat": 4,
  "nbformat_minor": 0,
  "metadata": {
    "colab": {
      "provenance": [],
      "authorship_tag": "ABX9TyP57KoUYHgtoNBykR8haAmK",
      "include_colab_link": true
    },
    "kernelspec": {
      "name": "python3",
      "display_name": "Python 3"
    },
    "language_info": {
      "name": "python"
    }
  },
  "cells": [
    {
      "cell_type": "markdown",
      "metadata": {
        "id": "view-in-github",
        "colab_type": "text"
      },
      "source": [
        "<a href=\"https://colab.research.google.com/github/Anujgour22/upi-fraud-detection/blob/main/UPI_Fraud_Detection.ipynb\" target=\"_parent\"><img src=\"https://colab.research.google.com/assets/colab-badge.svg\" alt=\"Open In Colab\"/></a>"
      ]
    },
    {
      "cell_type": "code",
      "execution_count": 2,
      "metadata": {
        "colab": {
          "base_uri": "https://localhost:8080/"
        },
        "id": "k8oAIuoTLMCL",
        "outputId": "7fec8e16-a661-4769-d36c-5c22a18cedaf"
      },
      "outputs": [
        {
          "output_type": "stream",
          "name": "stdout",
          "text": [
            "\u001b[2K     \u001b[90m━━━━━━━━━━━━━━━━━━━━━━━━━━━━━━━━━━━━━━━━\u001b[0m \u001b[32m44.3/44.3 kB\u001b[0m \u001b[31m1.8 MB/s\u001b[0m eta \u001b[36m0:00:00\u001b[0m\n",
            "\u001b[2K   \u001b[90m━━━━━━━━━━━━━━━━━━━━━━━━━━━━━━━━━━━━━━━━\u001b[0m \u001b[32m1.9/1.9 MB\u001b[0m \u001b[31m26.3 MB/s\u001b[0m eta \u001b[36m0:00:00\u001b[0m\n",
            "\u001b[2K   \u001b[90m━━━━━━━━━━━━━━━━━━━━━━━━━━━━━━━━━━━━━━━━\u001b[0m \u001b[32m395.9/395.9 kB\u001b[0m \u001b[31m22.3 MB/s\u001b[0m eta \u001b[36m0:00:00\u001b[0m\n",
            "\u001b[2K   \u001b[90m━━━━━━━━━━━━━━━━━━━━━━━━━━━━━━━━━━━━━━━━\u001b[0m \u001b[32m9.9/9.9 MB\u001b[0m \u001b[31m112.9 MB/s\u001b[0m eta \u001b[36m0:00:00\u001b[0m\n",
            "\u001b[2K   \u001b[90m━━━━━━━━━━━━━━━━━━━━━━━━━━━━━━━━━━━━━━━━\u001b[0m \u001b[32m247.0/247.0 kB\u001b[0m \u001b[31m17.7 MB/s\u001b[0m eta \u001b[36m0:00:00\u001b[0m\n",
            "\u001b[2K   \u001b[90m━━━━━━━━━━━━━━━━━━━━━━━━━━━━━━━━━━━━━━━━\u001b[0m \u001b[32m6.9/6.9 MB\u001b[0m \u001b[31m101.0 MB/s\u001b[0m eta \u001b[36m0:00:00\u001b[0m\n",
            "\u001b[2K   \u001b[90m━━━━━━━━━━━━━━━━━━━━━━━━━━━━━━━━━━━━━━━━\u001b[0m \u001b[32m79.1/79.1 kB\u001b[0m \u001b[31m6.5 MB/s\u001b[0m eta \u001b[36m0:00:00\u001b[0m\n",
            "\u001b[?25h"
          ]
        }
      ],
      "source": [
        "# Step 1: Install required libraries for the whole project\n",
        "!pip install pandas numpy scikit-learn imbalanced-learn xgboost faker matplotlib seaborn shap optuna fastapi uvicorn streamlit --quiet\n"
      ]
    },
    {
      "cell_type": "code",
      "source": [
        "# Step 2: Create project folders\n",
        "import os\n",
        "\n",
        "folders = [\"data\", \"notebooks\", \"src\", \"reports\"]\n",
        "for folder in folders:\n",
        "    os.makedirs(folder, exist_ok=True)\n",
        "\n",
        "print(\"✅ Project folder structure created.\")\n"
      ],
      "metadata": {
        "colab": {
          "base_uri": "https://localhost:8080/"
        },
        "id": "58Q5s7VHL3UQ",
        "outputId": "693a52a2-7fb5-45cd-f748-7a27c54e7eb4"
      },
      "execution_count": 3,
      "outputs": [
        {
          "output_type": "stream",
          "name": "stdout",
          "text": [
            "✅ Project folder structure created.\n"
          ]
        }
      ]
    },
    {
      "cell_type": "code",
      "source": [
        "# Step 3: Create requirements.txt file\n",
        "requirements = \"\"\"pandas\n",
        "numpy\n",
        "scikit-learn\n",
        "imbalanced-learn\n",
        "xgboost\n",
        "faker\n",
        "matplotlib\n",
        "seaborn\n",
        "shap\n",
        "fastapi\n",
        "uvicorn\n",
        "streamlit\n",
        "optuna\n",
        "\"\"\"\n",
        "with open(\"requirements.txt\", \"w\") as f:\n",
        "    f.write(requirements)\n",
        "\n",
        "print(\"✅ requirements.txt created.\")\n"
      ],
      "metadata": {
        "colab": {
          "base_uri": "https://localhost:8080/"
        },
        "id": "58Z5pFumL8-P",
        "outputId": "41c13652-61bb-4181-ef9f-838c7d10909a"
      },
      "execution_count": 4,
      "outputs": [
        {
          "output_type": "stream",
          "name": "stdout",
          "text": [
            "✅ requirements.txt created.\n"
          ]
        }
      ]
    },
    {
      "cell_type": "code",
      "source": [
        "# Step 4: Create README.md\n",
        "readme_content = \"\"\"# UPI Fraud Detection System (Synthetic Data)\n",
        "\n",
        "## 📌 Project Overview\n",
        "This project implements a **machine learning-based UPI fraud detection system** inspired by the research paper *'Secure UPI: Machine Learning-Driven Fraud Detection System for UPI Transactions'*.\n",
        "\n",
        "---\n",
        "\n",
        "## 📊 Dataset Schema\n",
        "| Feature | Description |\n",
        "|---------|-------------|\n",
        "| transaction_id | Unique transaction ID |\n",
        "| timestamp | Date and time of transaction |\n",
        "| amount | Transaction amount (₹) |\n",
        "| sender_id_hash | Anonymized sender ID |\n",
        "| receiver_id_hash | Anonymized receiver ID |\n",
        "| sender_account_age_days | Age of sender's account in days |\n",
        "| device_type | Device used (mobile, web, etc.) |\n",
        "| ip_region | Geographic region of sender |\n",
        "| merchant_category | Merchant/receiver category |\n",
        "| is_recurring | Whether transaction is recurring |\n",
        "| txn_channel | UPI app or payment channel |\n",
        "| txn_status | success/failed/reversed |\n",
        "| num_prev_txns_24h | Previous transactions in last 24h |\n",
        "| avg_amount_30d | Avg. transaction amount over last 30 days |\n",
        "| is_fraud | Target label (0 = legit, 1 = fraud) |\n",
        "\n",
        "---\n",
        "\"\"\"\n",
        "with open(\"README.md\", \"w\") as f:\n",
        "    f.write(readme_content)\n",
        "\n",
        "print(\"✅ README.md created.\")\n"
      ],
      "metadata": {
        "colab": {
          "base_uri": "https://localhost:8080/"
        },
        "id": "7F4HPgfUMBIW",
        "outputId": "7f0db3e5-de6c-4ec2-a1f7-1533a84ed11f"
      },
      "execution_count": 5,
      "outputs": [
        {
          "output_type": "stream",
          "name": "stdout",
          "text": [
            "✅ README.md created.\n"
          ]
        }
      ]
    },
    {
      "cell_type": "code",
      "source": [
        "# Step 5: List files to verify\n",
        "!ls -R\n"
      ],
      "metadata": {
        "colab": {
          "base_uri": "https://localhost:8080/"
        },
        "id": "N7SmtjUhMCiU",
        "outputId": "1aaa37ed-92c4-4f54-8249-f1cb5524cc5f"
      },
      "execution_count": 6,
      "outputs": [
        {
          "output_type": "stream",
          "name": "stdout",
          "text": [
            ".:\n",
            "data  notebooks  README.md  reports  requirements.txt  sample_data  src\n",
            "\n",
            "./data:\n",
            "\n",
            "./notebooks:\n",
            "\n",
            "./reports:\n",
            "\n",
            "./sample_data:\n",
            "anscombe.json\t\t      mnist_test.csv\n",
            "california_housing_test.csv   mnist_train_small.csv\n",
            "california_housing_train.csv  README.md\n",
            "\n",
            "./src:\n"
          ]
        }
      ]
    },
    {
      "cell_type": "code",
      "source": [],
      "metadata": {
        "id": "6KUHhrO4MKHB"
      },
      "execution_count": null,
      "outputs": []
    }
  ]
}
